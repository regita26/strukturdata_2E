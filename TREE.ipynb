{
 "cells": [
  {
   "cell_type": "code",
   "execution_count": 4,
   "metadata": {},
   "outputs": [],
   "source": [
    "class BinaryTree:\n",
    "    def __init__(self,rootObj):\n",
    "        self.key = rootObj\n",
    "        self.leftChild = None\n",
    "        self.rightChild = None\n",
    "\n",
    "    def insertLeft(self,newNode):\n",
    "        if self.leftChild == None:\n",
    "            self.leftChild = BinaryTree(newNode)\n",
    "\n",
    "        else:\n",
    "            t = BinaryTree(newNode)\n",
    "            t.leftChild = self.leftChild\n",
    "            self.leftChild = t\n",
    "\n",
    "    def insertRight(self,newNode):\n",
    "        if self.rightChild == None:\n",
    "            self.rightChild = BinaryTree(newNode)\n",
    "\n",
    "        else:\n",
    "            t = BinaryTree(newNode)\n",
    "            t.rightChild = self.rightChild\n",
    "            self.rightChild = t"
   ]
  },
  {
   "cell_type": "code",
   "execution_count": 6,
   "metadata": {},
   "outputs": [
    {
     "ename": "IndentationError",
     "evalue": "unindent does not match any outer indentation level (<tokenize>, line 4)",
     "output_type": "error",
     "traceback": [
      "\u001b[1;36m  File \u001b[1;32m\"<tokenize>\"\u001b[1;36m, line \u001b[1;32m4\u001b[0m\n\u001b[1;33m    def getLeftChild(self):\u001b[0m\n\u001b[1;37m    ^\u001b[0m\n\u001b[1;31mIndentationError\u001b[0m\u001b[1;31m:\u001b[0m unindent does not match any outer indentation level\n"
     ]
    }
   ],
   "source": [
    "def getRightChild(self):\n",
    "        return self.rightChild\n",
    "\n",
    "    def getLeftChild(self):\n",
    "        return self.leftChild\n",
    "\n",
    "    def setRootVal(self,obj):\n",
    "        self.key = obj\n",
    "\n",
    "    def getRootVal(self):\n",
    "        return self.key\n",
    "\n",
    "    def show(self):\n",
    "\n",
    "        current = self.key\n",
    "        print (current)\n",
    "\n",
    "        selfleft = self\n",
    "        selfright = self\n",
    "        while selfleft.getLeftChild() != None  and selfright.getRightChild() != None :\n",
    "\n",
    "            print(selfleft.getLeftChild().getRootVal() )\n",
    "            print(selfright.getRightChild().getRootVal() )\n",
    "\n",
    "            selfleft = selfleft.getLeftChild()\n",
    "\n",
    "        while selfright.getRightChild() != None :\n",
    "            print(selfright.getRightChild().getRootVal() )\n",
    "\n",
    "            selfright = selfright.getRightChild()\n",
    "    def height(self):\n",
    "\n",
    "        selfleft = self\n",
    "        selfright = self\n",
    "        count = 0\n",
    "        while selfleft.getLeftChild() != None  or selfright.getRightChild() != None :\n",
    "\n",
    "            count = count + 1\n",
    "            if selfleft.getLeftChild() != None:\n",
    "                selfleft = selfleft.getLeftChild()\n",
    "\n",
    "            if selfright.getRightChild() != None:\n",
    "                selfright = selfright.getRightChild()\n",
    "        return count\n",
    "\n",
    "\n",
    "r = BinaryTree('a')\n",
    "print(r.getRootVal())\n",
    "r.insertLeft('b')\n",
    "r.insertRight('c')\n",
    "print(r.getLeftChild().getRootVal())\n",
    "\n",
    "\n",
    "print(r.getRightChild().getRootVal())\n",
    "print(r.height())\n"
   ]
  },
  {
   "cell_type": "code",
   "execution_count": null,
   "metadata": {},
   "outputs": [],
   "source": []
  }
 ],
 "metadata": {
  "kernelspec": {
   "display_name": "Python 3",
   "language": "python",
   "name": "python3"
  },
  "language_info": {
   "codemirror_mode": {
    "name": "ipython",
    "version": 3
   },
   "file_extension": ".py",
   "mimetype": "text/x-python",
   "name": "python",
   "nbconvert_exporter": "python",
   "pygments_lexer": "ipython3",
   "version": "3.7.1"
  }
 },
 "nbformat": 4,
 "nbformat_minor": 2
}
