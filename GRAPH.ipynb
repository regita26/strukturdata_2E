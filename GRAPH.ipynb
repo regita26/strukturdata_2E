{
 "cells": [
  {
   "cell_type": "code",
   "execution_count": 1,
   "metadata": {},
   "outputs": [
    {
     "name": "stdout",
     "output_type": "stream",
     "text": [
      "Semua tetangga dari vertex a:  ['b', 'd']\n",
      "Semua tetangga dari vertex d:  ['a', 'b', 'c']\n",
      "\n",
      "Menampilkan semua vertex dan tetangganya masingmasing\n",
      "a : ['b', 'd']\n",
      "b : ['a', 'd']\n",
      "c : ['d']\n",
      "d : ['a', 'b', 'c']\n"
     ]
    }
   ],
   "source": [
    "# list of lists\n",
    "adjLists = [ ['b','d'], ['a','d'], ['d'], ['a','b','c'] ]\n",
    "node= ['a','b','c','d']\n",
    "# testing\n",
    "print(\"Semua tetangga dari vertex a: \", adjLists[0])\n",
    "print(\"Semua tetangga dari vertex d: \", adjLists[3])\n",
    "print(\"\\nMenampilkan semua vertex dan tetangganya masingmasing\")\n",
    "n = len(adjLists)\n",
    "for n in range(0,n):\n",
    " print(node[n], \":\", adjLists[n])"
   ]
  },
  {
   "cell_type": "code",
   "execution_count": 2,
   "metadata": {},
   "outputs": [
    {
     "ename": "SyntaxError",
     "evalue": "EOL while scanning string literal (<ipython-input-2-757999b3b371>, line 12)",
     "output_type": "error",
     "traceback": [
      "\u001b[1;36m  File \u001b[1;32m\"<ipython-input-2-757999b3b371>\"\u001b[1;36m, line \u001b[1;32m12\u001b[0m\n\u001b[1;33m    print(\"\\nMenampilkan semua vertex dan tetangganya\u001b[0m\n\u001b[1;37m                                                     ^\u001b[0m\n\u001b[1;31mSyntaxError\u001b[0m\u001b[1;31m:\u001b[0m EOL while scanning string literal\n"
     ]
    }
   ],
   "source": [
    "# insert (vertex, list) pairs into dictionary\n",
    "adjLists_dict = {'a': ['b', 'd'],\n",
    " 'b': ['a', 'd'],\n",
    " 'c': ['d'],\n",
    " 'd': ['a','b','c'],\n",
    " }\n",
    "# testing\n",
    "print(\"Semua tetangga dari vertex indeks ke a: \",\n",
    "adjLists_dict['a'])\n",
    "print(\"Semua tetangga dari vertex indeks ke d: \",\n",
    "adjLists_dict['d'])\n",
    "print(\"\\nMenampilkan semua vertex dan tetangganya\n",
    "masing-masing\")\n",
    "for node in adjLists_dict:\n",
    " print(node, \":\", adjLists_dict[node])"
   ]
  },
  {
   "cell_type": "code",
   "execution_count": 3,
   "metadata": {},
   "outputs": [
    {
     "ename": "IndentationError",
     "evalue": "expected an indented block (<ipython-input-3-39b0e4ef0f8b>, line 4)",
     "output_type": "error",
     "traceback": [
      "\u001b[1;36m  File \u001b[1;32m\"<ipython-input-3-39b0e4ef0f8b>\"\u001b[1;36m, line \u001b[1;32m4\u001b[0m\n\u001b[1;33m    self.vertex = data\u001b[0m\n\u001b[1;37m       ^\u001b[0m\n\u001b[1;31mIndentationError\u001b[0m\u001b[1;31m:\u001b[0m expected an indented block\n"
     ]
    }
   ],
   "source": [
    "# A class to represent the adjacency list of the node\n",
    "class AdjNode:\n",
    " def __init__(self, data):\n",
    " self.vertex = data\n",
    " self.next = None\n",
    "# A class to represent a graph. A graph\n",
    "# is the list of the adjacency lists.\n",
    "# Size of the array will be the no. of the\n",
    "0 → 1 → 3\n",
    "1 → 0 → 3\n",
    "2 → 3\n",
    "3 → 0 → 1 → 2\n",
    "23\n",
    "# vertices \"V\"\n",
    "class Graph:\n",
    " def __init__(self, vertices):\n",
    " self.V = vertices\n",
    " self.graph = [None] * self.V\n",
    " # Function to add an edge in an undirected graph\n",
    " def add_edge(self, src, dest):\n",
    " # Adding the node to the source node\n",
    " node = AdjNode(dest)\n",
    " node.next = self.graph[src]\n",
    " self.graph[src] = node\n",
    " # Adding the source node to the destination as\n",
    " # it is the undirected graph\n",
    " node = AdjNode(src)\n",
    " node.next = self.graph[dest]\n",
    " self.graph[dest] = node\n",
    " # Function to print the graph\n",
    " def print_graph(self):\n",
    " for i in range(self.V):\n",
    " print(\"Adjacency list dari vertex {}\\n head\".format(i),\n",
    "end=\"\")\n",
    " temp = self.graph[i]\n",
    " while temp:\n",
    " print(\" -> {}\".format(temp.vertex), end=\"\")\n",
    " temp = temp.next\n",
    " print(\" \\n\")\n",
    "# Driver program to the above graph class\n",
    "if __name__ == \"__main__\":\n",
    " V = 4\n",
    " graph = Graph(V)\n",
    " graph.add_edge(0, 1)\n",
    " graph.add_edge(0, 3)\n",
    "24\n",
    " graph.add_edge(1, 3)\n",
    " graph.add_edge(2, 3)\n",
    " graph.print_graph()\n"
   ]
  },
  {
   "cell_type": "code",
   "execution_count": null,
   "metadata": {},
   "outputs": [],
   "source": []
  }
 ],
 "metadata": {
  "kernelspec": {
   "display_name": "Python 3",
   "language": "python",
   "name": "python3"
  },
  "language_info": {
   "codemirror_mode": {
    "name": "ipython",
    "version": 3
   },
   "file_extension": ".py",
   "mimetype": "text/x-python",
   "name": "python",
   "nbconvert_exporter": "python",
   "pygments_lexer": "ipython3",
   "version": "3.7.1"
  }
 },
 "nbformat": 4,
 "nbformat_minor": 2
}
